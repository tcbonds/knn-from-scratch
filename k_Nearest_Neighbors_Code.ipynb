{
 "cells": [
  {
   "cell_type": "markdown",
   "metadata": {},
   "source": [
    "# K-Nearest Neighbors From Scratch Using Only NumPy"
   ]
  },
  {
   "cell_type": "code",
   "execution_count": 1,
   "metadata": {},
   "outputs": [],
   "source": [
    "import numpy as np"
   ]
  },
  {
   "cell_type": "code",
   "execution_count": 2,
   "metadata": {},
   "outputs": [],
   "source": [
    "data = np.genfromtxt('/Users/tcbon/Downloads/breast_cancer_coimbra.csv', delimiter=',', skip_header=1)"
   ]
  },
  {
   "cell_type": "code",
   "execution_count": 3,
   "metadata": {},
   "outputs": [],
   "source": [
    "def train_test_split(data):\n",
    "    # Train set split\n",
    "    train_indices = np.random.choice(len(data), size=int(len(data)*.8), replace=False)\n",
    "    train = data[train_indices,:]\n",
    "    x_train = [x[:-1] for x in train]\n",
    "    y_train = [x[-1] for x in train]\n",
    "    \n",
    "    # Test set split\n",
    "    test_indices = set(range(len(data))) - set(train_indices)\n",
    "    test = data[list(test_indices),:]\n",
    "    x_test = [x[:-1] for x in test]\n",
    "    y_test = [x[-1] for x in test]\n",
    "    \n",
    "    return x_train, x_test, y_train, y_test"
   ]
  },
  {
   "cell_type": "code",
   "execution_count": 4,
   "metadata": {},
   "outputs": [],
   "source": [
    "def column_means_and_stdevs(x_train):\n",
    "    # Finding mean and stdev of each column\n",
    "    return np.mean(x_train, axis=0), np.std(x_train, axis=0)    "
   ]
  },
  {
   "cell_type": "code",
   "execution_count": 5,
   "metadata": {},
   "outputs": [],
   "source": [
    "def apply_standardization(data):    \n",
    "    # Applying standardization to data\n",
    "    for column_ix in range(len(data[0])): \n",
    "        col_values = []\n",
    "        for row_ix in range(len(data)):\n",
    "            # Replacing old value with z-score\n",
    "            data[row_ix][column_ix] = (data[row_ix][column_ix] - means[column_ix]) / stdevs[column_ix]\n",
    "    return data"
   ]
  },
  {
   "cell_type": "code",
   "execution_count": 6,
   "metadata": {},
   "outputs": [],
   "source": [
    "def knn_classifier(x_train, x_test, y_train, k, p=2):\n",
    "    \n",
    "    # Loop through each test pt\n",
    "    predicted_test_classes = []\n",
    "    for test_pt in x_test:\n",
    "        distances = []\n",
    "        # Loop through each train pt\n",
    "        for train_pt in x_train: \n",
    "            column_differences = [] \n",
    "            # Loop through columns\n",
    "            for i in range(len(test_pt)): \n",
    "                # Find the difference between the test and train for a particular column, \n",
    "                # raise to the power of p and append to the column_differences list.\n",
    "                column_differences.append(np.abs(test_pt[i] - train_pt[i])**p) \n",
    "\n",
    "            # Append output of Minkowski Formula to the distances list       \n",
    "            distances.append(sum(column_differences)**(1/p)) \n",
    "\n",
    "        # Find k-nearest neighbors indices\n",
    "        nearest_neighbors_indices = np.asarray(distances).argsort()[:k] \n",
    "\n",
    "        # Count number of nearest neighbors for each class\n",
    "        nearest_neighbors_classes = {}\n",
    "        for pt in np.take(y_train, nearest_neighbors_indices):\n",
    "            if pt not in nearest_neighbors_classes:\n",
    "                nearest_neighbors_classes[pt] = 1\n",
    "            else:\n",
    "                nearest_neighbors_classes[pt] += 1\n",
    "\n",
    "        # Find class with greatest number of nearest neighbors\n",
    "        \n",
    "        # If k is even and there are equal numbers of each class\n",
    "        if k % 2 == 0 and len(set(nearest_neighbors_classes.values())) == 1:\n",
    "            test_pt_class = np.random.randint(1,3)\n",
    "        # If k is odd or even without a tie\n",
    "        else:\n",
    "            test_pt_class = max(nearest_neighbors_classes, key=nearest_neighbors_classes.get)\n",
    "                \n",
    "        predicted_test_classes.append(test_pt_class)\n",
    "    \n",
    "    return predicted_test_classes"
   ]
  },
  {
   "cell_type": "code",
   "execution_count": 7,
   "metadata": {},
   "outputs": [],
   "source": [
    "x_train, x_test, y_train, y_test = train_test_split(data)"
   ]
  },
  {
   "cell_type": "code",
   "execution_count": 8,
   "metadata": {},
   "outputs": [],
   "source": [
    "means, stdevs = column_means_and_stdevs(x_train)"
   ]
  },
  {
   "cell_type": "code",
   "execution_count": 9,
   "metadata": {},
   "outputs": [],
   "source": [
    "x_scaled_train = apply_standardization(x_train)\n",
    "x_scaled_test = apply_standardization(x_test)"
   ]
  },
  {
   "cell_type": "code",
   "execution_count": 10,
   "metadata": {},
   "outputs": [],
   "source": [
    "y_test_predicted = knn_classifier(x_scaled_train, x_scaled_test, y_train,3)"
   ]
  },
  {
   "cell_type": "code",
   "execution_count": 11,
   "metadata": {},
   "outputs": [
    {
     "name": "stdout",
     "output_type": "stream",
     "text": [
      "actual    predicted\n",
      "1.0       1.0\n",
      "1.0       1.0\n",
      "1.0       1.0\n",
      "1.0       1.0\n",
      "1.0       1.0\n",
      "1.0       2.0\n",
      "1.0       2.0\n",
      "1.0       1.0\n",
      "1.0       1.0\n",
      "1.0       2.0\n",
      "1.0       1.0\n",
      "2.0       2.0\n",
      "2.0       2.0\n",
      "2.0       2.0\n",
      "2.0       2.0\n",
      "2.0       2.0\n",
      "2.0       2.0\n",
      "2.0       2.0\n",
      "2.0       2.0\n",
      "2.0       2.0\n",
      "2.0       2.0\n",
      "2.0       1.0\n",
      "2.0       1.0\n",
      "2.0       1.0\n"
     ]
    }
   ],
   "source": [
    "# Actual vs Predicted Values\n",
    "print('actual    predicted')\n",
    "for x,y in zip(y_test,y_test_predicted):\n",
    "    print(x, '     ' , y)"
   ]
  },
  {
   "cell_type": "markdown",
   "metadata": {},
   "source": [
    "## Verifying Validity of Code by Comparing to scikit-learn"
   ]
  },
  {
   "cell_type": "code",
   "execution_count": 12,
   "metadata": {},
   "outputs": [],
   "source": [
    "from sklearn.preprocessing import StandardScaler\n",
    "from sklearn.neighbors import KNeighborsClassifier"
   ]
  },
  {
   "cell_type": "code",
   "execution_count": 13,
   "metadata": {},
   "outputs": [],
   "source": [
    "scalar = StandardScaler()\n",
    "\n",
    "scalar.fit(x_train)\n",
    "\n",
    "x_scaled_train2 = scalar.transform(x_train)\n",
    "x_scaled_test2 = scalar.transform(x_test)"
   ]
  },
  {
   "cell_type": "code",
   "execution_count": 14,
   "metadata": {},
   "outputs": [
    {
     "data": {
      "text/plain": [
       "KNeighborsClassifier(algorithm='auto', leaf_size=30, metric='minkowski',\n",
       "           metric_params=None, n_jobs=None, n_neighbors=3, p=2,\n",
       "           weights='uniform')"
      ]
     },
     "execution_count": 14,
     "metadata": {},
     "output_type": "execute_result"
    }
   ],
   "source": [
    "knn = KNeighborsClassifier(n_neighbors=3)\n",
    "knn.fit(x_scaled_train2, y_train)"
   ]
  },
  {
   "cell_type": "code",
   "execution_count": 15,
   "metadata": {},
   "outputs": [
    {
     "name": "stdout",
     "output_type": "stream",
     "text": [
      "sklearn   mine\n",
      "1.0       1.0\n",
      "1.0       1.0\n",
      "1.0       1.0\n",
      "1.0       1.0\n",
      "1.0       1.0\n",
      "2.0       2.0\n",
      "2.0       2.0\n",
      "1.0       1.0\n",
      "1.0       1.0\n",
      "2.0       2.0\n",
      "1.0       1.0\n",
      "2.0       2.0\n",
      "2.0       2.0\n",
      "2.0       2.0\n",
      "2.0       2.0\n",
      "2.0       2.0\n",
      "2.0       2.0\n",
      "2.0       2.0\n",
      "2.0       2.0\n",
      "2.0       2.0\n",
      "2.0       2.0\n",
      "1.0       1.0\n",
      "1.0       1.0\n",
      "1.0       1.0\n"
     ]
    }
   ],
   "source": [
    "# Outputs are the same!!!\n",
    "print('sklearn   mine')\n",
    "for x,y in zip(knn.predict(x_scaled_test2),y_test_predicted):\n",
    "    print(x, '     ' , y)"
   ]
  }
 ],
 "metadata": {
  "kernelspec": {
   "display_name": "Python 3",
   "language": "python",
   "name": "python3"
  },
  "language_info": {
   "codemirror_mode": {
    "name": "ipython",
    "version": 3
   },
   "file_extension": ".py",
   "mimetype": "text/x-python",
   "name": "python",
   "nbconvert_exporter": "python",
   "pygments_lexer": "ipython3",
   "version": "3.7.2"
  }
 },
 "nbformat": 4,
 "nbformat_minor": 2
}
